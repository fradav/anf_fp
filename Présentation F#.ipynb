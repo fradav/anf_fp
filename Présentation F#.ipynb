{
 "cells": [
  {
   "cell_type": "markdown",
   "metadata": {
    "slideshow": {
     "slide_type": "slide"
    },
    "toc": true
   },
   "source": [
    "<h1>Table of Contents<span class=\"tocSkip\"></span></h1>\n",
    "<div class=\"toc\"><ul class=\"toc-item\"><li><span><a href=\"#Un-peu-d'histoire\" data-toc-modified-id=\"Un-peu-d'histoire-1\"><span class=\"toc-item-num\">1&nbsp;&nbsp;</span>Un peu d'histoire</a></span></li><li><span><a href=\"#F#-et-.NET\" data-toc-modified-id=\"F#-et-.NET-2\"><span class=\"toc-item-num\">2&nbsp;&nbsp;</span>F# et .NET</a></span></li><li><span><a href=\"#F#-et-.NET-core\" data-toc-modified-id=\"F#-et-.NET-core-3\"><span class=\"toc-item-num\">3&nbsp;&nbsp;</span>F# et .NET core</a></span></li><li><span><a href=\"#F#-Vs-<-X->\" data-toc-modified-id=\"F#-Vs-<-X->-4\"><span class=\"toc-item-num\">4&nbsp;&nbsp;</span>F# Vs &lt; X &gt;</a></span><ul class=\"toc-item\"><li><span><a href=\"#Avantages\" data-toc-modified-id=\"Avantages-4.1\"><span class=\"toc-item-num\">4.1&nbsp;&nbsp;</span>Avantages</a></span></li><li><span><a href=\"#Inconvénients\" data-toc-modified-id=\"Inconvénients-4.2\"><span class=\"toc-item-num\">4.2&nbsp;&nbsp;</span>Inconvénients</a></span></li></ul></li><li><span><a href=\"#Utilisation-dans-l'industrie\" data-toc-modified-id=\"Utilisation-dans-l'industrie-5\"><span class=\"toc-item-num\">5&nbsp;&nbsp;</span>Utilisation dans l'industrie</a></span></li><li><span><a href=\"#Du-code-du-code-du-code-!\" data-toc-modified-id=\"Du-code-du-code-du-code-!-6\"><span class=\"toc-item-num\">6&nbsp;&nbsp;</span>Du code du code du code !</a></span><ul class=\"toc-item\"><li><span><a href=\"#Les-Fournisseurs-de-Types-(Type-Providers)\" data-toc-modified-id=\"Les-Fournisseurs-de-Types-(Type-Providers)-6.1\"><span class=\"toc-item-num\">6.1&nbsp;&nbsp;</span>Les Fournisseurs de Types (<em>Type Providers</em>)</a></span></li><li><span><a href=\"#Type-Providers-I-:-ce-bon-vieux-CSV...\" data-toc-modified-id=\"Type-Providers-I-:-ce-bon-vieux-CSV...-6.2\"><span class=\"toc-item-num\">6.2&nbsp;&nbsp;</span>Type Providers I : ce bon vieux CSV...</a></span></li><li><span><a href=\"#Type-Provider-II-:-Open-Data\" data-toc-modified-id=\"Type-Provider-II-:-Open-Data-6.3\"><span class=\"toc-item-num\">6.3&nbsp;&nbsp;</span>Type Provider II : Open Data</a></span></li><li><span><a href=\"#Type-Providers-III-:-du-JSON\" data-toc-modified-id=\"Type-Providers-III-:-du-JSON-6.4\"><span class=\"toc-item-num\">6.4&nbsp;&nbsp;</span>Type Providers III : du JSON</a></span></li><li><span><a href=\"#Type-Providers-III-:-du-SQL\" data-toc-modified-id=\"Type-Providers-III-:-du-SQL-6.5\"><span class=\"toc-item-num\">6.5&nbsp;&nbsp;</span>Type Providers III : du SQL</a></span></li><li><span><a href=\"#Type-Provider-IV-:-du-R-(!)\" data-toc-modified-id=\"Type-Provider-IV-:-du-R-(!)-6.6\"><span class=\"toc-item-num\">6.6&nbsp;&nbsp;</span>Type Provider IV : du R (!)</a></span></li></ul></li><li><span><a href=\"#Computation-Expressions\" data-toc-modified-id=\"Computation-Expressions-7\"><span class=\"toc-item-num\">7&nbsp;&nbsp;</span>Computation Expressions</a></span><ul class=\"toc-item\"><li><span><a href=\"#Computation-Expressions-I-:-Des-Pipes-au-Seq\" data-toc-modified-id=\"Computation-Expressions-I-:-Des-Pipes-au-Seq-7.1\"><span class=\"toc-item-num\">7.1&nbsp;&nbsp;</span>Computation Expressions I : Des Pipes au <code>Seq</code></a></span></li><li><span><a href=\"#Computation-Expressions-II-:-LINQ-ou-la-&quot;monade&quot;-SQL\" data-toc-modified-id=\"Computation-Expressions-II-:-LINQ-ou-la-&quot;monade&quot;-SQL-7.2\"><span class=\"toc-item-num\">7.2&nbsp;&nbsp;</span>Computation Expressions II : LINQ ou la \"monade\" SQL</a></span></li><li><span><a href=\"#Computation-Expressions-III-:-Async\" data-toc-modified-id=\"Computation-Expressions-III-:-Async-7.3\"><span class=\"toc-item-num\">7.3&nbsp;&nbsp;</span>Computation Expressions III : Async</a></span></li><li><span><a href=\"#Expression-de-calcul-&quot;custom&quot;-I-:-Monade-Maybe\" data-toc-modified-id=\"Expression-de-calcul-&quot;custom&quot;-I-:-Monade-Maybe-7.4\"><span class=\"toc-item-num\">7.4&nbsp;&nbsp;</span>Expression de calcul \"custom\" I : Monade Maybe</a></span></li><li><span><a href=\"#Expressions-de-calcul-&quot;custom&quot;-II-:-Eventually\" data-toc-modified-id=\"Expressions-de-calcul-&quot;custom&quot;-II-:-Eventually-7.5\"><span class=\"toc-item-num\">7.5&nbsp;&nbsp;</span>Expressions de calcul \"custom\" II : <code>Eventually</code></a></span></li></ul></li><li><span><a href=\"#Motifs-Actifs-(Active-Patterns)\" data-toc-modified-id=\"Motifs-Actifs-(Active-Patterns)-8\"><span class=\"toc-item-num\">8&nbsp;&nbsp;</span>Motifs Actifs (<em>Active Patterns</em>)</a></span><ul class=\"toc-item\"><li><span><a href=\"#Active-Patterns-I-:-Cas-&quot;normal&quot;\" data-toc-modified-id=\"Active-Patterns-I-:-Cas-&quot;normal&quot;-8.1\"><span class=\"toc-item-num\">8.1&nbsp;&nbsp;</span>Active Patterns I : Cas \"normal\"</a></span></li><li><span><a href=\"#Active-Patterns-II-:-partiel\" data-toc-modified-id=\"Active-Patterns-II-:-partiel-8.2\"><span class=\"toc-item-num\">8.2&nbsp;&nbsp;</span>Active Patterns II : partiel</a></span></li><li><span><a href=\"#Active-Patterns-III-:-paramétrisé\" data-toc-modified-id=\"Active-Patterns-III-:-paramétrisé-8.3\"><span class=\"toc-item-num\">8.3&nbsp;&nbsp;</span>Active Patterns III : paramétrisé</a></span></li></ul></li><li><span><a href=\"#Technologies-Web-:-Développement-&quot;Full-Stack&quot;\" data-toc-modified-id=\"Technologies-Web-:-Développement-&quot;Full-Stack&quot;-9\"><span class=\"toc-item-num\">9&nbsp;&nbsp;</span>Technologies Web : Développement \"Full Stack\"</a></span><ul class=\"toc-item\"><li><span><a href=\"#Fable-:-un-transpileur-JS-&quot;état-de-l'art&quot;\" data-toc-modified-id=\"Fable-:-un-transpileur-JS-&quot;état-de-l'art&quot;-9.1\"><span class=\"toc-item-num\">9.1&nbsp;&nbsp;</span>Fable : un transpileur JS \"état de l'art\"</a></span></li><li><span><a href=\"#SAFE-Stack\" data-toc-modified-id=\"SAFE-Stack-9.2\"><span class=\"toc-item-num\">9.2&nbsp;&nbsp;</span>SAFE-Stack</a></span></li></ul></li><li><span><a href=\"#References\" data-toc-modified-id=\"References-10\"><span class=\"toc-item-num\">10&nbsp;&nbsp;</span>References</a></span></li></ul></div>"
   ]
  },
  {
   "cell_type": "code",
   "execution_count": null,
   "metadata": {
    "cell_style": "center",
    "scrolled": true,
    "slideshow": {
     "slide_type": "subslide"
    }
   },
   "outputs": [],
   "source": [
    "#load \"Paket.fsx\"\n",
    "open Paket\n",
    "Dependencies.Install \"\"\"source https://nuget.org/api/v2\n",
    "framework: netstandard2.0\n",
    "\n",
    "nuget FSharp.Data\n",
    "nuget Deedle\n",
    "nuget System.Data.SQLite\n",
    "nuget SQLProvider\n",
    "github mndrake/IfSharpLab src/DeedleFormat.fs\n",
    "\"\"\"\n",
    "let dependencies = Dependencies.Locate(__SOURCE_DIRECTORY__)\n",
    "dependencies.GenerateLoadScripts [] [\"netstandard2.0\"] [\"fsx\"]\n",
    "#load \"XPlot.Plotly.Paket.fsx\""
   ]
  },
  {
   "cell_type": "code",
   "execution_count": null,
   "metadata": {},
   "outputs": [],
   "source": [
    "#load \"XPlot.Plotly.fsx\"\n",
    "#load \".paket/load/netstandard2.0/main.group.fsx\"\n",
    "#load \"paket-files/mndrake/IfSharpLab/src/DeedleFormat.fs\"\n",
    "#fsioutput \"on\""
   ]
  },
  {
   "cell_type": "markdown",
   "metadata": {
    "slideshow": {
     "slide_type": "slide"
    }
   },
   "source": [
    "<center>\n",
    "<img src=https://miro.medium.com/max/512/1*zmqM8Mkeg7Q9cZGa1A37ZA.png/></center>"
   ]
  },
  {
   "cell_type": "markdown",
   "metadata": {
    "slideshow": {
     "slide_type": "slide"
    }
   },
   "source": [
    "# Un peu d'histoire\n",
    "\n",
    "(<a id=\"call-symeearly\" class=\"latex_cit\" href=\"#cit-symeearly\">Syme, 2019</a>)"
   ]
  },
  {
   "cell_type": "markdown",
   "metadata": {
    "cell_style": "split",
    "slideshow": {
     "slide_type": "slide"
    }
   },
   "source": [
    "<center><img src=images/milner.jpg valign=top width=\"28%\"/></center>"
   ]
  },
  {
   "cell_type": "markdown",
   "metadata": {
    "cell_style": "split",
    "slideshow": {
     "slide_type": "fragment"
    }
   },
   "source": [
    "<center><img src=images/gates.png valign=top width=\"20%\"/></center>"
   ]
  },
  {
   "cell_type": "markdown",
   "metadata": {
    "slideshow": {
     "slide_type": "fragment"
    }
   },
   "source": [
    "<center><img src=images/nuke.svg align=center width=\"20%\"/><center>"
   ]
  },
  {
   "cell_type": "markdown",
   "metadata": {
    "slideshow": {
     "slide_type": "subslide"
    }
   },
   "source": [
    "<table width=\"70%\" style='font-size:\"80%\"'>\n",
    "  <tr>\n",
    "    <th>Année</th>\n",
    "    <th>Recherche</th>\n",
    "    <th>\"Corporate\"</th>\n",
    "  </tr>\n",
    "  <tr>\n",
    "    <td>1973</td>\n",
    "    <td>ML, le Lisp « typé »</td>\n",
    "    <td></td>\n",
    "  </tr>\n",
    "  <tr>\n",
    "    <td>1975</td>\n",
    "    <td></td>\n",
    "    <td>Microsoft</td>\n",
    "  </tr>\n",
    "  <tr>\n",
    "    <td>1995</td>\n",
    "    <td></td>\n",
    "    <td>Java</td>\n",
    "  </tr>\n",
    "  <tr>\n",
    "    <td>1997</td>\n",
    "    <td>Standard ML</td>\n",
    "    <td></td>\n",
    "  </tr>\n",
    "  <tr>\n",
    "    <td>1998</td>\n",
    "    <td colspan=\"2\">Don Syme @ Microsoft Research</td>\n",
    "  </tr>\n",
    "  <tr>\n",
    "    <td>2002</td>\n",
    "    <td></td>\n",
    "    <td>.NET (<a id=\"call-kennedy2001design\" class=\"latex_cit\" href=\"#cit-kennedy2001design\">Kennedy and Syme, 2001</a>)</td>\n",
    "  </tr>\n",
    "  <tr>\n",
    "    <td>2005</td>\n",
    "    <td>F#</td>\n",
    "    <td></td>\n",
    "  </tr>\n",
    "</table>"
   ]
  },
  {
   "cell_type": "markdown",
   "metadata": {
    "slideshow": {
     "slide_type": "notes"
    }
   },
   "source": [
    "SML : spécification formelle\n",
    "JAVA : vague de l'OO mais technos venant de la FP :\n",
    "(GC, JIT, bytecode)"
   ]
  },
  {
   "cell_type": "markdown",
   "metadata": {
    "slideshow": {
     "slide_type": "subslide"
    }
   },
   "source": [
    "# F# et .NET\n",
    "- F# est vu comme LE langage fonctionnel par MS sur .NET\n",
    "- .NET et F# ont co-évolué"
   ]
  },
  {
   "cell_type": "markdown",
   "metadata": {
    "slideshow": {
     "slide_type": "subslide"
    }
   },
   "source": [
    "# F# et .NET core\n",
    "\n",
    "- Reboot .NET \n",
    "- 100% multiplateforme (Mac/Windows/Linux + x86/ARM)\n",
    "- OSS"
   ]
  },
  {
   "cell_type": "markdown",
   "metadata": {
    "slideshow": {
     "slide_type": "subslide"
    }
   },
   "source": [
    "# F# Vs < X > #"
   ]
  },
  {
   "cell_type": "markdown",
   "metadata": {
    "cell_style": "split",
    "slideshow": {
     "slide_type": "fragment"
    }
   },
   "source": [
    "## Avantages\n",
    "- Stable\n",
    "- Cohérent\n",
    "- Ouvert\n",
    "- Interopérable"
   ]
  },
  {
   "cell_type": "markdown",
   "metadata": {
    "cell_style": "split",
    "slideshow": {
     "slide_type": "fragment"
    }
   },
   "source": [
    "## Inconvénients\n",
    "- Fonctionnalités\n",
    "- Pas de \"killer app\"\n",
    "- Couverture académique"
   ]
  },
  {
   "cell_type": "markdown",
   "metadata": {
    "slideshow": {
     "slide_type": "notes"
    }
   },
   "source": [
    "- stable : pas de reboot/changement dans le langage, bonne \"compatibilité\" binaire\n",
    "- Il y a une façon de programmer en f# relativement simple, pas de prise de tête sur 30 manières de coder la même chose\n",
    "- gros des troupes chez MS, mais participation active et ouverte par RFC à l'évolution du langage"
   ]
  },
  {
   "cell_type": "markdown",
   "metadata": {
    "slideshow": {
     "slide_type": "subslide"
    }
   },
   "source": [
    "# Utilisation dans l'industrie\n",
    "- MS, of course (Cloud et produits internes)\n",
    "- Jet.com\n",
    "- Genetec\n",
    "- Banques et Trading (ingénierie de la finance)\n",
    "- Développement mobile (Xamarin)"
   ]
  },
  {
   "cell_type": "markdown",
   "metadata": {
    "slideshow": {
     "slide_type": "notes"
    }
   },
   "source": [
    "- site de vente en ligne concurrent d'amazon, succès (vente - cher et plus local)\n",
    "- Genetec : grosse boîte de soft, spécialisé dans la vidéosurveillance (leader)"
   ]
  },
  {
   "cell_type": "markdown",
   "metadata": {
    "slideshow": {
     "slide_type": "slide"
    }
   },
   "source": [
    "# Du code du code du code !"
   ]
  },
  {
   "cell_type": "markdown",
   "metadata": {
    "slideshow": {
     "slide_type": "slide"
    }
   },
   "source": [
    "## Les Fournisseurs de Types (*Type Providers*)\n",
    "\n",
    "(<a id=\"call-syme2012strongly\" class=\"latex_cit\" href=\"#cit-syme2012strongly\">Syme, Battocchi <em>et al.</em>, 2012</a>)"
   ]
  },
  {
   "cell_type": "markdown",
   "metadata": {
    "slideshow": {
     "slide_type": "subslide"
    }
   },
   "source": [
    "Un fournisseur de type F# est un composant qui fournit des types, des propriétés et des méthodes. Les Fournisseurs de type génèrent ce que l'on appelle des *Types fournis*, qui sont générés par le compilateur de `F#` et sont basés sur une source de données externe."
   ]
  },
  {
   "cell_type": "markdown",
   "metadata": {
    "slideshow": {
     "slide_type": "subslide"
    }
   },
   "source": [
    "Par exemple, un fournisseur de Type pour SQL peut générer des types représentant les tables et colonnes dans une base de données relationnelle. En fait, c’est ce que fait `SQLProvider`."
   ]
  },
  {
   "cell_type": "markdown",
   "metadata": {
    "slideshow": {
     "slide_type": "subslide"
    }
   },
   "source": [
    "Les types fournis dépendent dépendent des paramètres d’entrée d'un fournisseur de Type. Ces paramètres peuvent être un échantillon de source de données (par exemple, un fichier JSON), une URL qui pointe directement vers un service externe ou une chaîne de connexion à une source de données. "
   ]
  },
  {
   "cell_type": "markdown",
   "metadata": {
    "slideshow": {
     "slide_type": "subslide"
    }
   },
   "source": [
    "Un fournisseur de Type peut également vous garantir que les groupes de types sont \"instanciés\" uniquement à la demande ; Autrement dit, ils ne sont appelés que si les types sont réellement référencés par votre programme. Cela permet l'intégration directe et à la demande d'espaces de données à grande échelle, tels que les marchés de données (*data market*) en ligne, de manière fortement typée."
   ]
  },
  {
   "cell_type": "markdown",
   "metadata": {
    "slideshow": {
     "slide_type": "subslide"
    }
   },
   "source": [
    "### Fournisseurs de type \"génératif\"\n",
    "Les fournisseurs de Type générative produisent des types qui peuvent être écrits en tant que types .NET dans l’assembly dans lequel ils sont générés. Cela leur permet d’être utilisé à partir du code dans d’autres assemblys. Cela signifie que la représentation typée de la source de données doit être généralement facile à représenter avec des types .NET."
   ]
  },
  {
   "cell_type": "markdown",
   "metadata": {
    "slideshow": {
     "slide_type": "subslide"
    }
   },
   "source": [
    "### Fournisseurs de type \"effacé\"\n",
    "L'effacement (*erasure*) des fournisseurs de Type produisent des types qui peuvent uniquement être utilisées dans l’assembly ou le projet à partir duquel ils sont générés. Les types sont éphémères ; Autrement dit, ils ne sont pas écrites dans un assembly et ne peut pas être consommés par le code dans d’autres assemblys. Elles peuvent contenir des membres retardés (*delayed*), ce qui permet de passer à l'échelle facilement. Elles sont utiles pour l’utilisation d’un petit sous-ensemble d’une source de données volumineux et interconnectées."
   ]
  },
  {
   "cell_type": "markdown",
   "metadata": {
    "slideshow": {
     "slide_type": "subslide"
    }
   },
   "source": [
    "### Les Fournisseurs de Type les plus courants"
   ]
  },
  {
   "cell_type": "markdown",
   "metadata": {
    "slideshow": {
     "slide_type": "fragment"
    }
   },
   "source": [
    "`FSharp.Data` inclut les fournisseurs de Type pour les formats de document JSON, XML, CSV, HTML et ressources."
   ]
  },
  {
   "cell_type": "markdown",
   "metadata": {
    "slideshow": {
     "slide_type": "fragment"
    }
   },
   "source": [
    "`SQLProvider` fournit l’accès fortement typé aux SGBD via le mappage de l’objet et F# requêtes LINQ sur ces sources de données."
   ]
  },
  {
   "cell_type": "markdown",
   "metadata": {
    "slideshow": {
     "slide_type": "subslide"
    }
   },
   "source": [
    "## Type Providers I : ce bon vieux CSV..."
   ]
  },
  {
   "cell_type": "code",
   "execution_count": null,
   "metadata": {
    "slideshow": {
     "slide_type": "subslide"
    }
   },
   "outputs": [],
   "source": [
    "open FSharp.Data\n",
    "\n",
    "type Gbpusd = CsvProvider<const(__SOURCE_DIRECTORY__ + \"/data/gbpusd.csv\")>"
   ]
  },
  {
   "cell_type": "markdown",
   "metadata": {
    "slideshow": {
     "slide_type": "notes"
    }
   },
   "source": [
    "Taux de change livre/dollar\n",
    "Table par jours"
   ]
  },
  {
   "cell_type": "code",
   "execution_count": null,
   "metadata": {
    "slideshow": {
     "slide_type": "subslide"
    },
    "solution2": "shown",
    "solution2_first": true
   },
   "outputs": [],
   "source": [
    "// Obtenir la date où le taux> Util.Table de change à perdu plus de 10 points pour la livre"
   ]
  },
  {
   "cell_type": "code",
   "execution_count": null,
   "metadata": {
    "slideshow": {
     "slide_type": "notes"
    },
    "solution2": "shown"
   },
   "outputs": [],
   "source": [
    "let gbpusd = Gbpusd.GetSample().Rows\n",
    "gbpusd\n",
    "|> Seq.pairwise\n",
    "|> Seq.filter (fun (before, after) -> before.GbpUsd - after.GbpUsd > 0.1M)\n",
    "|> Seq.map (fun (before,_) -> before.Date.ToShortDateString())"
   ]
  },
  {
   "cell_type": "code",
   "execution_count": null,
   "metadata": {
    "slideshow": {
     "slide_type": "subslide"
    }
   },
   "outputs": [],
   "source": [
    "open Deedle\n",
    "\n",
    "let titanic = Frame.ReadCsv(__SOURCE_DIRECTORY__ + \"/data/titanic.csv\")"
   ]
  },
  {
   "cell_type": "code",
   "execution_count": null,
   "metadata": {
    "scrolled": true,
    "slideshow": {
     "slide_type": "subslide"
    },
    "solution2": "shown",
    "solution2_first": true
   },
   "outputs": [],
   "source": [
    "// Obtenir le taux de survivants par classe\n",
    "// let byClass = \n",
    "//     titanic"
   ]
  },
  {
   "cell_type": "code",
   "execution_count": null,
   "metadata": {
    "slideshow": {
     "slide_type": "notes"
    },
    "solution2": "shown"
   },
   "outputs": [],
   "source": [
    "let byClass = \n",
    "    titanic\n",
    "    |> Frame.groupRowsByString \"Pclass\"\n",
    "    |> Frame.getCol \"Survived\" :> Series<(string * int),bool>\n",
    "    |> Series.applyLevel fst (Series.values >> (Seq.countBy id) >> series)\n",
    "    |> Frame.ofRows\n",
    "    |> Frame.sortRowsByKey\n",
    "    |> Frame.indexColsWith [ \"Died\"; \"Survived\" ]"
   ]
  },
  {
   "cell_type": "code",
   "execution_count": null,
   "metadata": {
    "slideshow": {
     "slide_type": "subslide"
    }
   },
   "outputs": [],
   "source": [
    "byClass?Total <- byClass?Died + byClass?Survived"
   ]
  },
  {
   "cell_type": "code",
   "execution_count": null,
   "metadata": {
    "slideshow": {
     "slide_type": "fragment"
    }
   },
   "outputs": [],
   "source": [
    "frame [ \"Died (%)\" => round (byClass?Died / byClass?Total * 100.0)\n",
    "        \"Survived (%)\" => round (byClass?Survived / byClass?Total * 100.0) ]"
   ]
  },
  {
   "cell_type": "markdown",
   "metadata": {
    "slideshow": {
     "slide_type": "subslide"
    }
   },
   "source": [
    "## Type Provider II : Open Data"
   ]
  },
  {
   "cell_type": "code",
   "execution_count": null,
   "metadata": {
    "slideshow": {
     "slide_type": "subslide"
    }
   },
   "outputs": [],
   "source": [
    "open XPlot.Plotly\n",
    "\n",
    "let wb = WorldBankData.GetDataContext()\n",
    "wb"
   ]
  },
  {
   "cell_type": "markdown",
   "metadata": {
    "slideshow": {
     "slide_type": "notes"
    }
   },
   "source": [
    "Compilation Open data de statistiques sur le développement "
   ]
  },
  {
   "cell_type": "code",
   "execution_count": null,
   "metadata": {
    "slideshow": {
     "slide_type": "subslide"
    },
    "solution2": "shown",
    "solution2_first": true
   },
   "outputs": [],
   "source": [
    "// Obtenir les émissions de CO2 en kt par an pour la France, l'Allemagne et les USA"
   ]
  },
  {
   "cell_type": "code",
   "execution_count": null,
   "metadata": {
    "slideshow": {
     "slide_type": "notes"
    },
    "solution2": "shown"
   },
   "outputs": [],
   "source": [
    "wb.Countries.France.Indicators.``CO2 emissions (kt)``\n",
    "|> Chart.Line\n",
    "\n",
    "// wb.Countries.Germany.Indicators.``CO2 emissions (kt)``\n",
    "// |> Chart.Line\n",
    "\n",
    "// wb.Countries.``United States``.Indicators.``CO2 emissions (kt)``\n",
    "// |> Chart.Line"
   ]
  },
  {
   "cell_type": "markdown",
   "metadata": {
    "slideshow": {
     "slide_type": "subslide"
    }
   },
   "source": [
    "## Type Providers III : du JSON "
   ]
  },
  {
   "cell_type": "markdown",
   "metadata": {
    "slideshow": {
     "slide_type": "subslide"
    }
   },
   "source": [
    "`\"http://api.openweathermap.org/data/2.5/forecast/daily?q=Prague&mode=json&units=metric&cnt=10&APPID=cb63a1cf33894de710a1e3a64f036a27\"`\n",
    "```json\n",
    "{\n",
    "  \"city\": {\n",
    "    \"id\": 3067696,\n",
    "    \"name\": \"Prague\",\n",
    "    \"coord\": {\n",
    "      \"lon\": 14.4213,\n",
    "      \"lat\": 50.0875\n",
    "    },\n",
    "[...]\n",
    "```"
   ]
  },
  {
   "cell_type": "code",
   "execution_count": null,
   "metadata": {
    "code_folding": [],
    "slideshow": {
     "slide_type": "subslide"
    }
   },
   "outputs": [],
   "source": [
    "type W = JsonProvider<\"http://api.openweathermap.org/data/2.5/forecast/daily?q=Prague&mode=json&units=metric&cnt=10&APPID=cb63a1cf33894de710a1e3a64f036a27\">\n",
    "\n",
    "let getTemps city = \n",
    "  let w = W.Load(\"http://api.openweathermap.org/data/2.5/forecast/daily?q=\" + city + \"&mode=json&units=metric&cnt=10&APPID=cb63a1cf33894de710a1e3a64f036a27\")\n",
    "  [ for d in w.List -> d.Temp.Day ]\n",
    "\n",
    "let cities = [\"Paris\";\"Lyon\";\"Marseille\"] "
   ]
  },
  {
   "cell_type": "code",
   "execution_count": null,
   "metadata": {
    "slideshow": {
     "slide_type": "subslide"
    },
    "solution2": "shown",
    "solution2_first": true
   },
   "outputs": [],
   "source": [
    "// Afficher un barplot des températures par ville"
   ]
  },
  {
   "cell_type": "code",
   "execution_count": null,
   "metadata": {
    "slideshow": {
     "slide_type": "notes"
    },
    "solution2": "shown"
   },
   "outputs": [],
   "source": [
    "cities \n",
    "|> Seq.map (getTemps >> Seq.indexed)\n",
    "|> Chart.Column\n",
    "|> Chart.WithLabels cities"
   ]
  },
  {
   "cell_type": "markdown",
   "metadata": {
    "slideshow": {
     "slide_type": "subslide"
    }
   },
   "source": [
    "## Type Providers III : du SQL"
   ]
  },
  {
   "cell_type": "code",
   "execution_count": null,
   "metadata": {
    "slideshow": {
     "slide_type": "subslide"
    }
   },
   "outputs": [],
   "source": [
    "[<Literal>]\n",
    "let ConnectionString = \n",
    "    \"Data Source=\" + \n",
    "    __SOURCE_DIRECTORY__ + @\"/data/northwindEF.db;\" + \n",
    "    \"Version=3;foreign keys=true\"\n",
    "\n",
    "[<Literal>]\n",
    "let ResolutionPath = __SOURCE_DIRECTORY__ + @\"/local\"\n",
    "\n",
    "open FSharp.Data.Sql\n",
    "\n",
    "type Sql = SqlDataProvider<\n",
    "                Common.DatabaseProviderTypes.SQLITE, \n",
    "                SQLiteLibrary = Common.SQLiteLibrary.SystemDataSQLite,\n",
    "                ConnectionString = ConnectionString, \n",
    "                ResolutionPath = ResolutionPath, \n",
    "                CaseSensitivityChange = Common.CaseSensitivityChange.ORIGINAL>\n",
    "\n",
    "let db = Sql.GetDataContext()"
   ]
  },
  {
   "cell_type": "code",
   "execution_count": null,
   "metadata": {
    "scrolled": true,
    "slideshow": {
     "slide_type": "subslide"
    },
    "solution2": "shown",
    "solution2_first": true
   },
   "outputs": [],
   "source": [
    "// liste des noms des clients\n",
    "// db.Main.Customers\n",
    "// |> Seq.map etc."
   ]
  },
  {
   "cell_type": "code",
   "execution_count": null,
   "metadata": {
    "slideshow": {
     "slide_type": "notes"
    },
    "solution2": "shown"
   },
   "outputs": [],
   "source": [
    "db.Main.Customers\n",
    "|> Seq.map (fun c -> c.ContactName)\n",
    "|> Seq.toList"
   ]
  },
  {
   "cell_type": "markdown",
   "metadata": {
    "slideshow": {
     "slide_type": "subslide"
    }
   },
   "source": [
    "## Type Provider IV : du R (!)"
   ]
  },
  {
   "cell_type": "code",
   "execution_count": null,
   "metadata": {
    "slideshow": {
     "slide_type": "subslide"
    }
   },
   "outputs": [],
   "source": [
    "#I \"./local/RProvider/bin\"\n",
    "#r \"DynamicInterop.dll\"\n",
    "#r \"RDotNet.dll\"\n",
    "#r \"RDotNet.FSharp.dll\"\n",
    "#r \"RProvider.dll\"\n",
    "#r \"RProvider.Runtime.dll\"\n",
    "open RDotNet\n",
    "open RProvider\n",
    "open RProvider.``base``\n",
    "open RProvider.stats\n",
    "open RProvider.graphics\n",
    "open RProvider.svglite\n",
    "open RProvider.grDevices"
   ]
  },
  {
   "cell_type": "code",
   "execution_count": null,
   "metadata": {},
   "outputs": [],
   "source": [
    "// Petite fonction utilitaire pour afficher n'importe quel plot R dans le notebook\n",
    "open System.IO\n",
    "let plotR (f : Lazy<SymbolicExpression>) = // f est une fonction de plot non évaluée\n",
    "    let path = Path.GetTempFileName()\n",
    "    R.png(path) |> ignore\n",
    "    f.Force() |> ignore\n",
    "    R.dev_off() |> ignore\n",
    "    let output = Util.Image path\n",
    "    File.Delete(path)\n",
    "    output"
   ]
  },
  {
   "cell_type": "code",
   "execution_count": null,
   "metadata": {
    "slideshow": {
     "slide_type": "subslide"
    }
   },
   "outputs": [],
   "source": [
    "let data = [ for x in 0. .. 0.1 .. 10. -> x * cos x ]\n",
    "lazy (R.plot data) |> plotR"
   ]
  },
  {
   "cell_type": "code",
   "execution_count": null,
   "metadata": {
    "slideshow": {
     "slide_type": "subslide"
    }
   },
   "outputs": [],
   "source": [
    "lazy  ([ for y in 2000 .. 2010 -> wb.Countries.France.Indicators.``GDP (current US$)``.[y] ]\n",
    "       |> R.barplot)\n",
    "|> plotR"
   ]
  },
  {
   "cell_type": "code",
   "execution_count": null,
   "metadata": {
    "code_folding": [],
    "slideshow": {
     "slide_type": "subslide"
    }
   },
   "outputs": [],
   "source": [
    "let sample = query {\n",
    "    for c in wb.Countries do\n",
    "    where (c.Indicators.``Population, total``.[2010] > 100000000.)\n",
    "    select c.Indicators } |> Seq.toArray"
   ]
  },
  {
   "cell_type": "code",
   "execution_count": null,
   "metadata": {
    "slideshow": {
     "slide_type": "fragment"
    }
   },
   "outputs": [],
   "source": [
    "let growth = [ for c in sample -> c.``GDP growth (annual %)``.[2010]]\n",
    "let gender = [ for c in sample -> c.``Employment to population ratio, 15+, female (%) (national estimate)``.[2010]]\n",
    "let youth = [ for c in sample -> c.``Population ages 0-14 (% of total population)``.[2010]]\n",
    "let pollution = [ for c in sample -> c.``CO2 emissions (kg per PPP $ of GDP)``.[2010]]"
   ]
  },
  {
   "cell_type": "code",
   "execution_count": null,
   "metadata": {
    "slideshow": {
     "slide_type": "subslide"
    },
    "solution2": "shown",
    "solution2_first": true
   },
   "outputs": [],
   "source": [
    "// Transformer ces quatres colonnes en data frame et l'afficher via R\n",
    "// namedParams [\n",
    "//     \"Growth\", growth\n",
    "//     \"Gender\", gender\n",
    "//     \"Youth\", youth\n",
    "//     \"Pollution\", pollution\n",
    "// ] "
   ]
  },
  {
   "cell_type": "code",
   "execution_count": null,
   "metadata": {
    "slideshow": {
     "slide_type": "notes"
    },
    "solution2": "shown"
   },
   "outputs": [],
   "source": [
    "lazy(namedParams [\n",
    "        \"Growth\", growth\n",
    "        \"Gender\", gender\n",
    "        \"Youth\", youth\n",
    "        \"Pollution\", pollution ] \n",
    "    |> R.data_frame\n",
    "    |> R.plot)\n",
    "|> plotR"
   ]
  },
  {
   "cell_type": "markdown",
   "metadata": {
    "slideshow": {
     "slide_type": "slide"
    }
   },
   "source": [
    "# Computation Expressions\n",
    "\n",
    "*Monadiquement vôtre...* (<a id=\"call-petricek2014f\" class=\"latex_cit\" href=\"#cit-petricek2014f\">Petricek and Syme, 2014</a>)"
   ]
  },
  {
   "cell_type": "markdown",
   "metadata": {
    "slideshow": {
     "slide_type": "subslide"
    }
   },
   "source": [
    "> Les expressions de calcul F# dans fournissent une syntaxe pratique pour écrire des calculs qui peuvent être séquencés et combinés à l’aide de constructions et de liaisons de workflow de contrôle. Selon le type d’expression de calcul, ils peuvent être considérés comme un moyen d’exprimer des monades, des monoides, des transformateurs monadiques et des foncteurs applicatifs."
   ]
  },
  {
   "cell_type": "markdown",
   "metadata": {
    "slideshow": {
     "slide_type": "subslide"
    }
   },
   "source": [
    "> Toutefois, contrairement à d’autres langages (comme la notation do-notation dans Haskell), ils ne sont pas liés à une abstraction unique et ne s’appuient pas sur des macros ou d’autres formes de surprogrammation pour accomplir une syntaxe pratique et contextuelle.\n",
    "\n",
    "Source : https://docs.microsoft.com/fr-fr/dotnet/fsharp/language-reference/computation-expressions"
   ]
  },
  {
   "cell_type": "markdown",
   "metadata": {
    "slideshow": {
     "slide_type": "subslide"
    }
   },
   "source": [
    "## Computation Expressions I : Des Pipes au `Seq`"
   ]
  },
  {
   "cell_type": "code",
   "execution_count": null,
   "metadata": {
    "slideshow": {
     "slide_type": "fragment"
    },
    "solution2": "shown",
    "solution2_first": true
   },
   "outputs": [],
   "source": [
    "// faire une séquence infinie des entiers naturels\n",
    "// let naturals = seq { 0 .. 10 }"
   ]
  },
  {
   "cell_type": "code",
   "execution_count": null,
   "metadata": {
    "slideshow": {
     "slide_type": "notes"
    },
    "solution2": "shown"
   },
   "outputs": [],
   "source": [
    "let naturals =\n",
    "    let rec nat k = \n",
    "        seq {\n",
    "            yield k\n",
    "            yield! nat (k + 1)\n",
    "        }\n",
    "    nat 0"
   ]
  },
  {
   "cell_type": "code",
   "execution_count": null,
   "metadata": {
    "scrolled": true,
    "slideshow": {
     "slide_type": "fragment"
    }
   },
   "outputs": [],
   "source": [
    "naturals\n",
    "|> Seq.map (fun x -> x * x)\n",
    "|> Seq.take 10\n",
    "|> Seq.iter (printfn \"%d\") "
   ]
  },
  {
   "cell_type": "markdown",
   "metadata": {
    "slideshow": {
     "slide_type": "subslide"
    }
   },
   "source": [
    "## Computation Expressions II : LINQ ou la \"monade\" SQL"
   ]
  },
  {
   "cell_type": "code",
   "execution_count": null,
   "metadata": {
    "code_folding": [],
    "slideshow": {
     "slide_type": "subslide"
    },
    "solution2": "hidden",
    "solution2_first": true
   },
   "outputs": [],
   "source": [
    "// open System.Linq\n",
    "// type ComptePays = { Pays : string; Nombre : int }\n",
    "\n",
    "// Retourner une liste des 5 pays avec le plus de clients dans l'ordre"
   ]
  },
  {
   "cell_type": "code",
   "execution_count": null,
   "metadata": {
    "slideshow": {
     "slide_type": "notes"
    },
    "solution2": "hidden"
   },
   "outputs": [],
   "source": [
    "open System.Linq\n",
    "type ComptePays = { Pays : string; Nombre : int }\n",
    "\n",
    "// Retourner une liste des 5 pays avec le plus de clients dans l'ordre\n",
    "query {\n",
    "    for c in db.Main.Customers do\n",
    "    groupBy c.Country into y\n",
    "    sortByDescending (y.Count())\n",
    "    take 5\n",
    "    select { Pays = y.Key ; Nombre = y.Count() } \n",
    "} |> Util.Table"
   ]
  },
  {
   "cell_type": "markdown",
   "metadata": {
    "slideshow": {
     "slide_type": "subslide"
    }
   },
   "source": [
    "## Computation Expressions III : Async"
   ]
  },
  {
   "cell_type": "code",
   "execution_count": null,
   "metadata": {
    "slideshow": {
     "slide_type": "subslide"
    }
   },
   "outputs": [],
   "source": [
    "open System.Net\n",
    "open Microsoft.FSharp.Control.WebExtensions\n",
    "\n",
    "let urlList = [ \"Microsoft.com\", \"http://www.microsoft.com/\"\n",
    "                \"MSDN\", \"http://msdn.microsoft.com/\"\n",
    "                \"Bing\", \"http://www.bing.com\"\n",
    "              ]"
   ]
  },
  {
   "cell_type": "code",
   "execution_count": null,
   "metadata": {
    "slideshow": {
     "slide_type": "subslide"
    }
   },
   "outputs": [],
   "source": [
    "let fetchAsync(name, url:string) =\n",
    "    async {\n",
    "        try\n",
    "            let uri = System.Uri(url)\n",
    "            let webClient = new WebClient()\n",
    "            let! html = webClient.AsyncDownloadString(uri)\n",
    "            printfn \"Read %d characters for %s\" html.Length name\n",
    "        with\n",
    "            | ex -> printfn \"%s\" (ex.Message);\n",
    "    }"
   ]
  },
  {
   "cell_type": "code",
   "execution_count": null,
   "metadata": {
    "slideshow": {
     "slide_type": "subslide"
    },
    "solution2": "hidden",
    "solution2_first": true
   },
   "outputs": [],
   "source": [
    "// faire une fonction runAll() qui lance la récupération de ces urls"
   ]
  },
  {
   "cell_type": "code",
   "execution_count": null,
   "metadata": {
    "slideshow": {
     "slide_type": "notes"
    },
    "solution2": "hidden"
   },
   "outputs": [],
   "source": [
    "let runAll() =\n",
    "    urlList\n",
    "    |> Seq.map fetchAsync\n",
    "    |> Async.Parallel\n",
    "    |> Async.RunSynchronously\n",
    "    |> ignore\n",
    "    \n",
    "runAll()"
   ]
  },
  {
   "cell_type": "markdown",
   "metadata": {
    "slideshow": {
     "slide_type": "subslide"
    }
   },
   "source": [
    "## Expression de calcul \"custom\" I : Monade Maybe"
   ]
  },
  {
   "cell_type": "code",
   "execution_count": null,
   "metadata": {
    "slideshow": {
     "slide_type": "subslide"
    }
   },
   "outputs": [],
   "source": [
    "type Maybe() =\n",
    "    member __.Bind(p, rest) =\n",
    "        match p with\n",
    "        | None -> None\n",
    "        | Some a -> rest a\n",
    "\n",
    "    member __.Return(p) =\n",
    "        Some p\n",
    "\n",
    "let maybe = Maybe()"
   ]
  },
  {
   "cell_type": "code",
   "execution_count": null,
   "metadata": {
    "slideshow": {
     "slide_type": "subslide"
    }
   },
   "outputs": [],
   "source": [
    "let tryDecr x n = \n",
    "  printfn \"Conditionally decrementing %A by %A\" x n\n",
    "  if x > n then Some (x - n) else None\n",
    "tryDecr"
   ]
  },
  {
   "cell_type": "code",
   "execution_count": null,
   "metadata": {
    "slideshow": {
     "slide_type": "notes"
    }
   },
   "outputs": [],
   "source": [
    "let maybeDecr x = maybe {\n",
    "    let! y = tryDecr x 10\n",
    "    let! z = tryDecr y 30\n",
    "    let! t = tryDecr z 50\n",
    "    return t\n",
    "  }\n",
    "maybeDecr"
   ]
  },
  {
   "cell_type": "code",
   "execution_count": null,
   "metadata": {},
   "outputs": [],
   "source": [
    "maybeDecr 100 |> printfn \"%A\"\n",
    "maybeDecr 50  |> printfn \"%A\"\n",
    "maybeDecr 30  |> printfn \"%A\""
   ]
  },
  {
   "cell_type": "markdown",
   "metadata": {
    "slideshow": {
     "slide_type": "subslide"
    }
   },
   "source": [
    "## Expressions de calcul \"custom\" II : `Eventually`"
   ]
  },
  {
   "cell_type": "markdown",
   "metadata": {
    "slideshow": {
     "slide_type": "subslide"
    }
   },
   "source": [
    "- Encapsuler un calcul sous la forme d’une série d’étapes qui peuvent être évaluées une par une à la fois.\n",
    "- Encoder l’état d’erreur de l’expression évaluée en cours avec un type somme"
   ]
  },
  {
   "cell_type": "markdown",
   "metadata": {
    "slideshow": {
     "slide_type": "notes"
    }
   },
   "source": [
    "Ce code illustre plusieurs modèles typiques que vous pouvez utiliser dans vos expressions de calcul, telles que les implémentations réutilisables de certaines méthodes de générateur."
   ]
  },
  {
   "cell_type": "code",
   "execution_count": null,
   "metadata": {
    "slideshow": {
     "slide_type": "subslide"
    }
   },
   "outputs": [],
   "source": [
    "type Eventually<'T> =\n",
    "    | Done of 'T\n",
    "    | NotYetDone of (unit -> Eventually<'T>)\n",
    "\n",
    "module Eventually =\n",
    "    // The bind for the computations. Append 'func' to the\n",
    "    // computation.\n",
    "    let rec bind func expr =\n",
    "        match expr with\n",
    "        | Done value -> func value\n",
    "        | NotYetDone work -> NotYetDone (fun () -> bind func (work()))\n",
    "\n",
    "    // Return the final value wrapped in the Eventually type.\n",
    "    let result value = Done value\n",
    "\n",
    "    type OkOrException<'T> =\n",
    "        | Ok of 'T\n",
    "        | Exception of System.Exception\n",
    "\n",
    "    // The catch for the computations. Stitch try/with throughout\n",
    "    // the computation, and return the overall result as an OkOrException.\n",
    "    let rec catch expr =\n",
    "        match expr with\n",
    "        | Done value -> result (Ok value)\n",
    "        | NotYetDone work ->\n",
    "            NotYetDone (fun () ->\n",
    "                let res = try Ok(work()) with | exn -> Exception exn\n",
    "                match res with\n",
    "                | Ok cont -> catch cont // note, a tailcall\n",
    "                | Exception exn -> result (Exception exn))\n",
    "\n",
    "    // The delay operator.\n",
    "    let delay func = NotYetDone (fun () -> func())\n",
    "\n",
    "    // The stepping action for the computations.\n",
    "    let step expr =\n",
    "        match expr with\n",
    "        | Done _ -> expr\n",
    "        | NotYetDone func -> func ()\n",
    "\n",
    "    // The rest of the operations are boilerplate.\n",
    "    // The tryFinally operator.\n",
    "    // This is boilerplate in terms of \"result\", \"catch\", and \"bind\".\n",
    "    let tryFinally expr compensation =\n",
    "        catch (expr)\n",
    "        |> bind (fun res -> \n",
    "            compensation();\n",
    "            match res with\n",
    "            | Ok value -> result value\n",
    "            | Exception exn -> raise exn)\n",
    "\n",
    "    // The tryWith operator.\n",
    "    // This is boilerplate in terms of \"result\", \"catch\", and \"bind\".\n",
    "    let tryWith exn handler =\n",
    "        catch exn\n",
    "        |> bind (function Ok value -> result value | Exception exn -> handler exn)\n",
    "\n",
    "    // The whileLoop operator.\n",
    "    // This is boilerplate in terms of \"result\" and \"bind\".\n",
    "    let rec whileLoop pred body =\n",
    "        if pred() then body |> bind (fun _ -> whileLoop pred body)\n",
    "        else result ()\n",
    "\n",
    "    // The sequential composition operator.\n",
    "    // This is boilerplate in terms of \"result\" and \"bind\".\n",
    "    let combine expr1 expr2 =\n",
    "        expr1 |> bind (fun () -> expr2)\n",
    "\n",
    "    // The using operator.\n",
    "    let using (resource: #System.IDisposable) func =\n",
    "        tryFinally (func resource) (fun () -> resource.Dispose())\n",
    "\n",
    "    // The forLoop operator.\n",
    "    // This is boilerplate in terms of \"catch\", \"result\", and \"bind\".\n",
    "    let forLoop (collection:seq<_>) func =\n",
    "        let ie = collection.GetEnumerator()\n",
    "        tryFinally \n",
    "            (whileLoop \n",
    "                (fun () -> ie.MoveNext()) \n",
    "                (delay (fun () -> let value = ie.Current in func value)))\n",
    "            (fun () -> ie.Dispose())\n",
    "\n",
    "// The builder class.\n",
    "type EventuallyBuilder() =\n",
    "    member __.Bind(comp, func) = Eventually.bind func comp\n",
    "    member __.Return(value) = Eventually.result value\n",
    "    member __.ReturnFrom(value) = value\n",
    "    member __.Combine(expr1, expr2) = Eventually.combine expr1 expr2\n",
    "    member __.Delay(func) = Eventually.delay func\n",
    "    member __.Zero() = Eventually.result ()\n",
    "    member __.TryWith(expr, handler) = Eventually.tryWith expr handler\n",
    "    member __.TryFinally(expr, compensation) = Eventually.tryFinally expr compensation\n",
    "    member __.For(coll:seq<_>, func) = Eventually.forLoop coll func\n",
    "    member __.Using(resource, expr) = Eventually.using resource expr\n",
    "\n",
    "let eventually = EventuallyBuilder()"
   ]
  },
  {
   "cell_type": "code",
   "execution_count": null,
   "metadata": {
    "slideshow": {
     "slide_type": ""
    },
    "solution2": "shown",
    "solution2_first": true
   },
   "outputs": [],
   "source": [
    "// Boucle de 1 à 2 qui affiche \" x = i \" (pour i = 1,2) et retourne l'addition de 3 + 4\n",
    "// Essayer 1, 2 et 4 pas\n",
    "\n",
    "let step x = Eventually.step x"
   ]
  },
  {
   "cell_type": "code",
   "execution_count": null,
   "metadata": {
    "slideshow": {
     "slide_type": "notes"
    },
    "solution2": "shown"
   },
   "outputs": [],
   "source": [
    "let comp = eventually {\n",
    "    for x in 1..2 do\n",
    "        printfn \" x = %d\" x\n",
    "    return 3 + 4 }\n",
    "\n",
    "// Try the remaining lines in F# interactive to see how this\n",
    "// computation expression works in practice."
   ]
  },
  {
   "cell_type": "code",
   "execution_count": null,
   "metadata": {
    "slideshow": {
     "slide_type": "notes"
    },
    "solution2": "shown"
   },
   "outputs": [],
   "source": [
    "// returns \"NotYetDone <closure>\"\n",
    "comp |> step"
   ]
  },
  {
   "cell_type": "code",
   "execution_count": null,
   "metadata": {
    "slideshow": {
     "slide_type": "notes"
    },
    "solution2": "shown"
   },
   "outputs": [],
   "source": [
    "// prints \"x = 1\"\n",
    "// returns \"NotYetDone <closure>\"\n",
    "comp |> step |> step"
   ]
  },
  {
   "cell_type": "code",
   "execution_count": null,
   "metadata": {
    "slideshow": {
     "slide_type": "notes"
    },
    "solution2": "shown"
   },
   "outputs": [],
   "source": [
    "// prints \"x = 1\"\n",
    "// prints \"x = 2\"\n",
    "// returns \"Done 7\"\n",
    "comp |> step |> step |> step |> step"
   ]
  },
  {
   "cell_type": "markdown",
   "metadata": {
    "slideshow": {
     "slide_type": "slide"
    }
   },
   "source": [
    "# Motifs Actifs (*Active Patterns*)\n",
    "\n",
    "(<a id=\"call-syme2007extensible\" class=\"latex_cit\" href=\"#cit-syme2007extensible\">Syme, Neverov <em>et al.</em>, 2007</a>)"
   ]
  },
  {
   "cell_type": "markdown",
   "metadata": {
    "slideshow": {
     "slide_type": "subslide"
    }
   },
   "source": [
    "> Active patterns enable you to define named partitions that subdivide input data, so that you can use these names in a pattern matching expression just as you would for a discriminated union. You can use active patterns to decompose data in a customized manner for each partition.\n",
    "\n",
    "Source : https://docs.microsoft.com/fr-fr/dotnet/fsharp/language-reference/active-patterns"
   ]
  },
  {
   "cell_type": "markdown",
   "metadata": {
    "slideshow": {
     "slide_type": "subslide"
    }
   },
   "source": [
    "## Active Patterns I : Cas \"normal\""
   ]
  },
  {
   "cell_type": "code",
   "execution_count": null,
   "metadata": {
    "slideshow": {
     "slide_type": "subslide"
    }
   },
   "outputs": [],
   "source": [
    "let (|Even|Odd|) input = if input % 2 = 0 then Even else Odd\n",
    "\n",
    "let TestNumber input =\n",
    "   match input with\n",
    "   | Even -> printfn \"%d is even\" input\n",
    "   | Odd -> printfn \"%d is odd\" input\n",
    "\n",
    "TestNumber 7\n",
    "TestNumber 11\n",
    "TestNumber 32"
   ]
  },
  {
   "cell_type": "code",
   "execution_count": null,
   "metadata": {
    "slideshow": {
     "slide_type": "subslide"
    }
   },
   "outputs": [],
   "source": [
    "open System.Drawing\n",
    "\n",
    "let (|RGB|) (col : Color) =\n",
    "     ( col.R, col.G, col.B )\n",
    "\n",
    "let (|HSB|) (col : Color) =\n",
    "   ( col.GetHue(), col.GetSaturation(), col.GetBrightness() )\n",
    "\n",
    "let printRGB (col: Color) =\n",
    "   match col with\n",
    "   | RGB(r, g, b) -> printfn \" Red: %d Green: %d Blue: %d\" r g b\n",
    "\n",
    "let printHSB (col: Color) =\n",
    "   match col with\n",
    "   | HSB(h, s, b) -> printfn \" Hue: %f Saturation: %f Brightness: %f\" h s b\n",
    "\n",
    "let printAll col colorString =\n",
    "  printfn \"%s\" colorString\n",
    "  printRGB col\n",
    "  printHSB col\n",
    "\n",
    "printAll Color.Red \"Red\"\n",
    "printAll Color.Black \"Black\"\n",
    "printAll Color.White \"White\"\n",
    "printAll Color.Gray \"Gray\"\n",
    "printAll Color.BlanchedAlmond \"BlanchedAlmond\""
   ]
  },
  {
   "cell_type": "markdown",
   "metadata": {
    "slideshow": {
     "slide_type": "subslide"
    }
   },
   "source": [
    "## Active Patterns II : partiel"
   ]
  },
  {
   "cell_type": "code",
   "execution_count": null,
   "metadata": {
    "slideshow": {
     "slide_type": "subslide"
    }
   },
   "outputs": [],
   "source": [
    "let (|Integer|_|) (str: string) =\n",
    "   let mutable intvalue = 0\n",
    "   if System.Int32.TryParse(str, &intvalue) then Some(intvalue)\n",
    "   else None\n",
    "\n",
    "let (|Float|_|) (str: string) =\n",
    "   let mutable floatvalue = 0.0\n",
    "   if System.Double.TryParse(str, &floatvalue) then Some(floatvalue)\n",
    "   else None\n",
    "\n",
    "let parseNumeric str =\n",
    "   match str with\n",
    "     | Integer i -> printfn \"%d : Integer\" i\n",
    "     | Float f -> printfn \"%f : Floating point\" f\n",
    "     | _ -> printfn \"%s : Not matched.\" str\n",
    "\n",
    "parseNumeric \"1.1\"\n",
    "parseNumeric \"0\"\n",
    "parseNumeric \"0.0\"\n",
    "parseNumeric \"10\"\n",
    "parseNumeric \"Something else\""
   ]
  },
  {
   "cell_type": "markdown",
   "metadata": {
    "slideshow": {
     "slide_type": "notes"
    }
   },
   "source": [
    "Sometimes, you need to partition only part of the input space. In that case, you write a set of partial patterns each of which match some inputs but fail to match other inputs. Active patterns that do not always produce a value are called partial active patterns; they have a return value that is an option type. To define a partial active pattern, you use a wildcard character (_) at the end of the list of patterns inside the banana clips. The following code illustrates the use of a partial active pattern."
   ]
  },
  {
   "cell_type": "markdown",
   "metadata": {
    "slideshow": {
     "slide_type": "subslide"
    }
   },
   "source": [
    "## Active Patterns III : paramétrisé"
   ]
  },
  {
   "cell_type": "code",
   "execution_count": null,
   "metadata": {
    "slideshow": {
     "slide_type": "subslide"
    }
   },
   "outputs": [],
   "source": [
    "open System.Text.RegularExpressions\n",
    "\n",
    "// ParseRegex parses a regular expression and returns a list of the strings that match each group in\n",
    "// the regular expression.\n",
    "// List.tail is called to eliminate the first element in the list, which is the full matched expression,\n",
    "// since only the matches for each group are wanted.\n",
    "let (|ParseRegex|_|) regex str =\n",
    "   let m = Regex(regex).Match(str)\n",
    "   if m.Success\n",
    "   then Some (List.tail [ for x in m.Groups -> x.Value ])\n",
    "   else None"
   ]
  },
  {
   "cell_type": "markdown",
   "metadata": {
    "slideshow": {
     "slide_type": "notes"
    }
   },
   "source": [
    "Active patterns always take at least one argument for the item being matched, but they may take additional arguments as well, in which case the name parameterized active pattern applies. Additional arguments allow a general pattern to be specialized. For example, active patterns that use regular expressions to parse strings often include the regular expression as an extra parameter, as in the following code, which also uses the partial active pattern Integer defined in the previous code example. In this example, strings that use regular expressions for various date formats are given to customize the general ParseRegex active pattern. The Integer active pattern is used to convert the matched strings into integers that can be passed to the DateTime constructor."
   ]
  },
  {
   "cell_type": "code",
   "execution_count": null,
   "metadata": {
    "slideshow": {
     "slide_type": "subslide"
    }
   },
   "outputs": [],
   "source": [
    "// Three different date formats are demonstrated here. The first matches two-\n",
    "// digit dates and the second matches full dates. This code assumes that if a two-digit\n",
    "// date is provided, it is an abbreviation, not a year in the first century.\n",
    "let parseDate str =\n",
    "   match str with\n",
    "     | ParseRegex \"(\\d{1,2})/(\\d{1,2})/(\\d{1,2})$\" [Integer m; Integer d; Integer y]\n",
    "          -> new System.DateTime(y + 2000, m, d)\n",
    "     | ParseRegex \"(\\d{1,2})/(\\d{1,2})/(\\d{3,4})\" [Integer m; Integer d; Integer y]\n",
    "          -> new System.DateTime(y, m, d)\n",
    "     | ParseRegex \"(\\d{1,4})-(\\d{1,2})-(\\d{1,2})\" [Integer y; Integer m; Integer d]\n",
    "          -> new System.DateTime(y, m, d)\n",
    "     | _ -> new System.DateTime()"
   ]
  },
  {
   "cell_type": "code",
   "execution_count": null,
   "metadata": {
    "slideshow": {
     "slide_type": "subslide"
    }
   },
   "outputs": [],
   "source": [
    "let dt1 = parseDate \"12/22/08\"\n",
    "let dt2 = parseDate \"1/1/2009\"\n",
    "let dt3 = parseDate \"2008-1-15\"\n",
    "let dt4 = parseDate \"1995-12-28\"\n",
    "\n",
    "printfn \"%s %s %s %s\" (dt1.ToString()) (dt2.ToString()) (dt3.ToString()) (dt4.ToString())"
   ]
  },
  {
   "cell_type": "markdown",
   "metadata": {
    "slideshow": {
     "slide_type": "slide"
    }
   },
   "source": [
    "# Technologies Web : Développement \"Full Stack\""
   ]
  },
  {
   "cell_type": "markdown",
   "metadata": {
    "slideshow": {
     "slide_type": "subslide"
    }
   },
   "source": [
    "- SAFE Stack\n",
    "- WebSharper"
   ]
  },
  {
   "cell_type": "markdown",
   "metadata": {
    "slideshow": {
     "slide_type": "subslide"
    }
   },
   "source": [
    "## Fable : un transpileur JS \"état de l'art\"\n",
    "\n",
    "(<a id=\"call-nunez2016mastering\" class=\"latex_cit\" href=\"#cit-nunez2016mastering\">Nunez and Fahad, 2016</a>)"
   ]
  },
  {
   "cell_type": "markdown",
   "metadata": {
    "slideshow": {
     "slide_type": "fragment"
    }
   },
   "source": [
    "- Programmation fonctionnelle + typage fort"
   ]
  },
  {
   "cell_type": "markdown",
   "metadata": {
    "slideshow": {
     "slide_type": "fragment"
    }
   },
   "source": [
    "- Sortie JS \"propre\" et derniers standard (ES2015+)"
   ]
  },
  {
   "cell_type": "markdown",
   "metadata": {
    "slideshow": {
     "slide_type": "fragment"
    }
   },
   "source": [
    "- Interaction facile avec tout l'écosystème JS (npm)"
   ]
  },
  {
   "cell_type": "markdown",
   "metadata": {
    "slideshow": {
     "slide_type": "fragment"
    }
   },
   "source": [
    "- Pratiquement tout le coeur F#, \"pruning\" efficace sur le code à la compilation"
   ]
  },
  {
   "cell_type": "markdown",
   "metadata": {
    "slideshow": {
     "slide_type": "subslide"
    }
   },
   "source": [
    "## SAFE-Stack"
   ]
  },
  {
   "cell_type": "markdown",
   "metadata": {
    "slideshow": {
     "slide_type": "fragment"
    }
   },
   "source": [
    "- Programmation quasi \"isomorphique\" Client-Serveur"
   ]
  },
  {
   "cell_type": "markdown",
   "metadata": {
    "slideshow": {
     "slide_type": "fragment"
    }
   },
   "source": [
    "- Basée sur le modèle/vue/mise à jour popularisé par `elm`"
   ]
  },
  {
   "cell_type": "markdown",
   "metadata": {
    "slideshow": {
     "slide_type": "notes"
    }
   },
   "source": [
    "- Model — the state of your application\n",
    "- Update — a way to update your state\n",
    "- View — a way to view your state as HTML"
   ]
  },
  {
   "cell_type": "markdown",
   "metadata": {
    "slideshow": {
     "slide_type": "fragment"
    }
   },
   "source": [
    "- FRP avec `React` (support `HMR` etc...)"
   ]
  },
  {
   "cell_type": "markdown",
   "metadata": {
    "slideshow": {
     "slide_type": "notes"
    }
   },
   "source": [
    "Hot Module Replacement (HMR) allows to update the UI of an application while it is running, without a full reload. In SAFE stack apps, this can dramatically speed up the development for web and mobile GUIs, since there is no need to \"stop\" and \"reload\" and application. Instead, you can make changes to your views and have them immediately update in the browser, without the need to restart the application."
   ]
  },
  {
   "cell_type": "markdown",
   "metadata": {
    "slideshow": {
     "slide_type": "slide"
    }
   },
   "source": [
    "# References\n",
    "\n",
    "(<a id=\"cit-symeearly\" href=\"#call-symeearly\">Syme, 2019</a>) Syme Don, ``_The Early History of F\\# (HOPL IV-second draft)_'', , vol. , number , pp. ,  2019.  [online](https://fsharp.org/history/hopl-draft-3b.pdf)\n",
    "\n",
    "(<a id=\"cit-kennedy2001design\" href=\"#call-kennedy2001design\">Kennedy and Syme, 2001</a>) A. Kennedy and D. Syme, ``_Design and implementation of generics for the. net common language runtime_'', ACM SigPlan Notices,  2001.\n",
    "\n",
    "(<a id=\"cit-syme2012strongly\" href=\"#call-syme2012strongly\">Syme, Battocchi <em>et al.</em>, 2012</a>) Syme Don, Battocchi Keith, Takeda Kenji <em>et al.</em>, ``_Strongly-typed language support for internet-scale information sources_'', Technical Report MSR-TR-2012--101, Microsoft Research, vol. , number , pp. ,  2012.\n",
    "\n",
    "(<a id=\"cit-petricek2014f\" href=\"#call-petricek2014f\">Petricek and Syme, 2014</a>) T. Petricek and D. Syme, ``_The F\\# computation expression zoo_'', International Symposium on Practical Aspects of Declarative Languages,  2014.\n",
    "\n",
    "(<a id=\"cit-syme2007extensible\" href=\"#call-syme2007extensible\">Syme, Neverov <em>et al.</em>, 2007</a>) D. Syme, G. Neverov and J. Margetson, ``_Extensible pattern matching via a lightweight language extension_'', ACM SIGPLAN Notices,  2007.\n",
    "\n",
    "(<a id=\"cit-nunez2016mastering\" href=\"#call-nunez2016mastering\">Nunez and Fahad, 2016</a>) Alfonso Garcia-Caro Nunez and Suhaib Fahad, ``_Mastering F\\#_'',  2016.\n",
    "\n"
   ]
  }
 ],
 "metadata": {
  "celltoolbar": "Slideshow",
  "kernelspec": {
   "display_name": "F#",
   "language": "fsharp",
   "name": "ifsharp"
  },
  "language": "fsharp",
  "language_info": {
   "codemirror_mode": "",
   "file_extension": ".fs",
   "mimetype": "text/x-fsharp",
   "name": "fsharp",
   "nbconvert_exporter": "",
   "pygments_lexer": "",
   "version": "4.3.1.0"
  },
  "latex_envs": {
   "LaTeX_envs_menu_present": true,
   "autoclose": false,
   "autocomplete": true,
   "bibliofile": "biblio.bib",
   "cite_by": "apalike",
   "current_citInitial": 1,
   "eqLabelWithNumbers": true,
   "eqNumInitial": 1,
   "hotkeys": {
    "equation": "Ctrl-E",
    "itemize": "Ctrl-I"
   },
   "labels_anchors": false,
   "latex_user_defs": false,
   "report_style_numbering": false,
   "user_envs_cfg": false
  },
  "toc": {
   "base_numbering": 1,
   "nav_menu": {},
   "number_sections": true,
   "sideBar": true,
   "skip_h1_title": false,
   "title_cell": "Table of Contents",
   "title_sidebar": "Contents",
   "toc_cell": true,
   "toc_position": {},
   "toc_section_display": true,
   "toc_window_display": false
  },
  "varInspector": {
   "cols": {
    "lenName": 16,
    "lenType": 16,
    "lenVar": 40
   },
   "kernels_config": {
    "python": {
     "delete_cmd_postfix": "",
     "delete_cmd_prefix": "del ",
     "library": "var_list.py",
     "varRefreshCmd": "print(var_dic_list())"
    },
    "r": {
     "delete_cmd_postfix": ") ",
     "delete_cmd_prefix": "rm(",
     "library": "var_list.r",
     "varRefreshCmd": "cat(var_dic_list()) "
    }
   },
   "types_to_exclude": [
    "module",
    "function",
    "builtin_function_or_method",
    "instance",
    "_Feature"
   ],
   "window_display": false
  }
 },
 "nbformat": 4,
 "nbformat_minor": 2
}
